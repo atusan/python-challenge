{
 "cells": [
  {
   "cell_type": "code",
   "execution_count": 81,
   "metadata": {},
   "outputs": [],
   "source": [
    "import os\n",
    "import csv"
   ]
  },
  {
   "cell_type": "code",
   "execution_count": 82,
   "metadata": {},
   "outputs": [
    {
     "data": {
      "text/plain": [
       "'Output/election_analysis.txt'"
      ]
     },
     "execution_count": 82,
     "metadata": {},
     "output_type": "execute_result"
    }
   ],
   "source": [
    "election_csv = os.path.join('Resources', 'election_data.csv')\n",
    "output_file = os.path.join(\"Output\", \"election_analysis.txt\")\n",
    "election_csv\n",
    "output_file"
   ]
  },
  {
   "cell_type": "code",
   "execution_count": 83,
   "metadata": {},
   "outputs": [],
   "source": [
    "total_votes=0\n",
    "finding_index = 0\n",
    "candidate_list = []\n",
    "num_vote_count = []\n",
    "percentage_list = []"
   ]
  },
  {
   "cell_type": "code",
   "execution_count": 84,
   "metadata": {},
   "outputs": [],
   "source": [
    "with open(election_csv, newline='') as file_reader:\n",
    "    \n",
    "    election_reader = csv.reader(file_reader, delimiter=',')\n",
    "   \n",
    "    # Extract header \n",
    "    election_header = next(election_reader)\n",
    "    \n",
    "    \n",
    "    for row in election_reader:\n",
    "        \n",
    "        total_votes= total_votes + 1\n",
    "         # Extract candidates \n",
    "        candidate_name = row[2]\n",
    "        \n",
    "        #if candidate name is not in the list then add the name and start counting their votes\n",
    "        #otherwise add 1 to exsiting candidate vote counter\n",
    "        if  candidate_name not in candidate_list:\n",
    "            \n",
    "            candidate_list.append(candidate_name)\n",
    "            num_vote_count.append(1)\n",
    "\n",
    "            \n",
    "            #finding_index =  candidate_list.index(name[2])\n",
    "            #num_vote_each.insert(finding_index,1)\n",
    "            #print(index)\n",
    "            \n",
    "        else:\n",
    "            \n",
    "            finding_index = candidate_list.index(candidate_name)\n",
    "            num_vote_count[finding_index] = num_vote_count[finding_index] + 1\n",
    "\n",
    "\n",
    "\n",
    "#             finding_index = candidate_list.index(row[2])\n",
    "#             num_vote_each[finding_index] += 1\n",
    "            \n",
    "#             num_vote_each.['row[2]'] = num_vote_each.[row[2]] + 1\n",
    "            \n",
    "            \n",
    "   \n",
    "    \n",
    "    \n",
    "    #winner =max(num_vote_each)\n",
    "    winner_index = num_vote_count.index(max(num_vote_count))\n",
    "    #winner     \n",
    "    winner = candidate_list[winner_index] \n",
    "    \n",
    "    #note: if I didnt use range I would get \"list index out of range\" error why?\n",
    "    for num in range(len(num_vote_count)):\n",
    "        percentange = num_vote_count[num]/total_votes*100\n",
    "        percentange = '{0:.3f}%'.format(percentange)\n",
    "        percentage_list.append(percentange)\n",
    "            \n",
    "\n",
    "           \n",
    "            \n",
    "    #result = zip(candidate_list,num_vote_count,percentage_list)\n",
    "    \n",
    "    \n",
    "      \n",
    "            \n",
    "            \n",
    "       \n",
    "                 \n",
    "            \n",
    "                \n",
    "            \n",
    "               \n",
    "                "
   ]
  },
  {
   "cell_type": "code",
   "execution_count": 85,
   "metadata": {},
   "outputs": [
    {
     "name": "stdout",
     "output_type": "stream",
     "text": [
      " Election Results \n",
      " ...............................\n",
      " Total Votes: 3521001\n",
      "...............................\n",
      "Khan:63.000%(2218231)\n",
      "Correy:20.000%(704200)\n",
      "Li:14.000%(492940)\n",
      "O'Tooley:3.000%(105630)\n",
      "...............................\n",
      "Khan\n"
     ]
    }
   ],
   "source": [
    "print(f\" Election Results \\n ...............................\\n Total Votes: \" + str(total_votes)\n",
    "      + \"\\n\" + \"...............................\" )\n",
    "\n",
    "#note: TypeError: 'zip' object is not subscriptable so we can't loop through a zip?\n",
    "# for i in result:\n",
    "#     print(result[i])\n",
    "\n",
    "for i in range(len(candidate_list)):\n",
    "    print(f\"{candidate_list[i]}:{str(percentage_list[i])}({str(num_vote_count[i])})\")\n",
    "\n",
    "print(\"...............................\")    \n",
    "print(winner)\n",
    "\n",
    "      \n",
    "      \n"
   ]
  },
  {
   "cell_type": "code",
   "execution_count": 86,
   "metadata": {},
   "outputs": [],
   "source": [
    "with open(output_file , 'w', newline='') as csvfile:\n",
    "    csvfile.write(\"Election Results \"+ \"\\n\")\n",
    "    csvfile.write(\"....................................................................................\" + \"\\n\")\n",
    "    csvfile.write(\"Total Votes: \" + str(total_votes)+ \"\\n\")\n",
    "    for i in range(len(candidate_list)):\n",
    "        csvfile.write(f\"{candidate_list[i]}:{str(percentage_list[i])}({str(num_vote_count[i])})\\n\")\n",
    "    csvfile.write(\"....................................................................................\" + \"\\n\")\n",
    "    csvfile.write(winner)\n",
    "    csvfile.close()"
   ]
  },
  {
   "cell_type": "code",
   "execution_count": null,
   "metadata": {},
   "outputs": [],
   "source": []
  }
 ],
 "metadata": {
  "kernelspec": {
   "display_name": "Python 3",
   "language": "python",
   "name": "python3"
  },
  "language_info": {
   "codemirror_mode": {
    "name": "ipython",
    "version": 3
   },
   "file_extension": ".py",
   "mimetype": "text/x-python",
   "name": "python",
   "nbconvert_exporter": "python",
   "pygments_lexer": "ipython3",
   "version": "3.7.3"
  }
 },
 "nbformat": 4,
 "nbformat_minor": 2
}
