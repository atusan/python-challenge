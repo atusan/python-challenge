{
 "cells": [
  {
   "cell_type": "code",
   "execution_count": 4,
   "metadata": {},
   "outputs": [],
   "source": [
    "import os\n",
    "import csv"
   ]
  },
  {
   "cell_type": "code",
   "execution_count": 13,
   "metadata": {},
   "outputs": [
    {
     "data": {
      "text/plain": [
       "'Output/budget_analysis.txt'"
      ]
     },
     "execution_count": 13,
     "metadata": {},
     "output_type": "execute_result"
    }
   ],
   "source": [
    "budget_csv = os.path.join('Resources', 'budget_data.csv')\n",
    "output_file = os.path.join(\"Output\", \"budget_analysis.txt\")\n",
    "budget_csv\n",
    "output_file"
   ]
  },
  {
   "cell_type": "code",
   "execution_count": 14,
   "metadata": {},
   "outputs": [
    {
     "name": "stdout",
     "output_type": "stream",
     "text": [
      "Sep-2013\n",
      "-2196167\n",
      "Feb-2012\n",
      "1926159\n",
      "-2315.1176470588234\n",
      "38382578\n",
      "86\n"
     ]
    }
   ],
   "source": [
    "month_num = 0\n",
    "total_net = 0\n",
    "net_change_list = []\n",
    "greatest_increase = 0\n",
    "greatest_increase_date = \"\"\n",
    "greatest_decrease = 0\n",
    "greatest_idecrease_date = \"\"\n",
    "\n",
    "\n",
    "\n",
    "with open(budget_csv, newline='') as file_reader:\n",
    "    budget_reader = csv.reader(file_reader, delimiter=',')\n",
    "    \n",
    "    # Extract header \n",
    "    budget_header = next(budget_reader)\n",
    "    \n",
    "    # Extract first budget \n",
    "    first_budget = next(budget_reader)\n",
    "   \n",
    "    total_net += int(first_budget[1])\n",
    "    prev_net = int(first_budget[1])\n",
    "    \n",
    "    \n",
    "    for row in budget_reader:\n",
    "        month_num = month_num + 1\n",
    "        total_net = int(row[1]) + total_net\n",
    "        \n",
    "        change = int(row[1]) - prev_net\n",
    "        net_change_list.append(change)\n",
    "        \n",
    "        # Finding greatest increase in profits\n",
    "        if change > greatest_increase:\n",
    "            greatest_increase = change \n",
    "            greatest_increase_date = str(row[0])\n",
    "            \n",
    "        # Finding greatest decrease in profits\n",
    "        elif change < greatest_decrease:\n",
    "            greatest_decrease = change\n",
    "            greatest_decrease_date = str(row[0])\n",
    "        \n",
    "        prev_net = int(row[1])\n",
    "        \n",
    "         #calculating total change and the average over the entire period\n",
    "        average_changes = sum(net_change_list)/len(net_change_list)\n",
    "        \n",
    " \n",
    "   \n",
    "        \n",
    "    print(greatest_decrease_date)    \n",
    "    print(greatest_decrease)    \n",
    "    print(greatest_increase_date)    \n",
    "    print(greatest_increase)\n",
    "    print(average_changes)\n",
    "    print(total_net)\n",
    "    print(month_num+1)\n",
    "    "
   ]
  },
  {
   "cell_type": "code",
   "execution_count": 15,
   "metadata": {},
   "outputs": [
    {
     "name": "stdout",
     "output_type": "stream",
     "text": [
      "'''text \n",
      " Financial Analysis \n",
      " ...............................\n",
      " Total Months: 86\n",
      " Total: $38382578\n",
      " Average  Change: $-2315.1176470588234\n",
      " Greatest Increase in Profits: Feb-2012(1926159)\n",
      " Greatest Decrease in Profits: Sep-2013(-2196167)\n",
      "'''\n"
     ]
    }
   ],
   "source": [
    "print(f\"'''text \\n Financial Analysis \\n ...............................\\n Total Months: \" +str(month_num+1)\n",
    "      + \"\\n Total: \"  + \"$\" + str(total_net) + \"\\n Average  Change: \" + \"$\" + str(average_changes)\n",
    "      + \"\\n Greatest Increase in Profits: \" + str(greatest_increase_date) + \"(\" + str(greatest_increase) +\")\"\n",
    "      + \"\\n Greatest Decrease in Profits: \" + str(greatest_decrease_date) + \"(\" + str(greatest_decrease) +\")\"\n",
    "      +\"\\n'''\")\n"
   ]
  },
  {
   "cell_type": "code",
   "execution_count": 22,
   "metadata": {},
   "outputs": [],
   "source": [
    "with open(output_file , 'w', newline='') as csvfile:\n",
    "    csvfile.write(\"Financial Analysis\"+ \"\\n\")\n",
    "    csvfile.write(\"....................................................................................\" + \"\\n\")\n",
    "    csvfile.write(\"Total Months: \" +str(month_num+1)+ \"\\n\")\n",
    "    csvfile.write(\"Total: \"  + \"$\" + str(total_net) + \"\\n\" )\n",
    "    csvfile.write(\"Average  Change: \" + \"$\" + str(average_changes) + \"\\n\")\n",
    "    csvfile.write(\"Greatest Increase in Profits: \" + str(greatest_increase_date) + \"(\" + str(greatest_increase) +\")\" + \"\\n\")\n",
    "    csvfile.write(\"Greatest Decrease in Profits: \" + str(greatest_decrease_date) + \"(\" + str(greatest_decrease) +\")\" + \"\\n\")\n",
    "    csvfile.close()\n",
    "\n",
    "    "
   ]
  },
  {
   "cell_type": "code",
   "execution_count": null,
   "metadata": {},
   "outputs": [],
   "source": []
  }
 ],
 "metadata": {
  "kernelspec": {
   "display_name": "Python 3",
   "language": "python",
   "name": "python3"
  },
  "language_info": {
   "codemirror_mode": {
    "name": "ipython",
    "version": 3
   },
   "file_extension": ".py",
   "mimetype": "text/x-python",
   "name": "python",
   "nbconvert_exporter": "python",
   "pygments_lexer": "ipython3",
   "version": "3.7.3"
  }
 },
 "nbformat": 4,
 "nbformat_minor": 2
}
